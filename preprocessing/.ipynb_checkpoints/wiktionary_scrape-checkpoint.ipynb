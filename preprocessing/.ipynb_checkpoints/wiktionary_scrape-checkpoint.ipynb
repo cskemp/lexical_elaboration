{
 "cells": [
  {
   "cell_type": "code",
   "execution_count": 8,
   "metadata": {
    "id": "TQZi-vlWyuTs"
   },
   "outputs": [],
   "source": [
    "import requests\n",
    "import pandas as pd\n",
    "import csv\n",
    "import urllib.request\n",
    "from bs4 import BeautifulSoup"
   ]
  },
  {
   "cell_type": "code",
   "execution_count": 9,
   "metadata": {
    "id": "6Y5qUsutWVYk"
   },
   "outputs": [],
   "source": [
    "# rename the folder path before running\n",
    "project_folder = 'C:\\\\Users\\\\tkhishigsure\\\\OneDrive - The University of Melbourne\\\\Documents\\\\github\\\\lexical_elaboration'"
   ]
  },
  {
   "cell_type": "code",
   "execution_count": 10,
   "metadata": {
    "id": "hyW-DvvqzP-S"
   },
   "outputs": [],
   "source": [
    "# load words of interest\n",
    "interest_words = set()\n",
    "with open(project_folder+'\\\\output\\\\bila_long_nounverbadj_unfiltered_full.csv', 'r', encoding='utf-8') as f:\n",
    "    for line in f:\n",
    "      parts = line.rstrip(\"\\n\").split(\",\")\n",
    "      interest_words.add(parts[1])"
   ]
  },
  {
   "cell_type": "code",
   "execution_count": 11,
   "metadata": {
    "id": "S7DY5k4y4vm9"
   },
   "outputs": [],
   "source": [
    "def printResults(word, language, meaning):\n",
    "  f = open(project_folder+'\\\\output\\\\wiktionary_forms.tsv','a', encoding='utf-8')\n",
    "  f.write(word+\"\\t\"+language+\"\\t\"+str(meaning)+\"\\n\")\n",
    "  f.close()"
   ]
  },
  {
   "cell_type": "code",
   "execution_count": 12,
   "metadata": {},
   "outputs": [],
   "source": [
    "# print headers\n",
    "printResults(\"word\", \"language_name\", \"same_meaning\")"
   ]
  },
  {
   "cell_type": "code",
   "execution_count": null,
   "metadata": {},
   "outputs": [],
   "source": [
    "# scrape wiktionary\n",
    "it = -1\n",
    "done_set = set()\n",
    "for word in interest_words:\n",
    "    it += 1\n",
    "    if word.startswith('-') or word.endswith('-'):\n",
    "        continue\n",
    "    if word.startswith('Template') or word.startswith('Appendix'):\n",
    "        continue\n",
    "    if it < 5:\n",
    "        continue\n",
    "    if it % 100 == 0:\n",
    "        print(it);\n",
    "    url = 'https://en.wiktionary.org/wiki/'+word+'?action=raw'\n",
    "    response = requests.get(url)\n",
    "    if response.status_code != 200:\n",
    "        print(response.status_code);\n",
    "        print(word);\n",
    "        continue\n",
    "    lines = response.text.split('\\n')\n",
    "    language_name = 'n.a'\n",
    "    meaning = False\n",
    "    for line in lines:\n",
    "        line = line.strip()\n",
    "        if line.startswith('==') and line.endswith('=='):\n",
    "            line = line[2:len(line)-2]\n",
    "            if line.startswith('='):\n",
    "                continue\n",
    "            if language_name != 'n.a':\n",
    "                printResults(word, language_name, meaning)\n",
    "            language_name = line\n",
    "            meaning = False\n",
    "            if language_name == 'English':\n",
    "                meaning = True\n",
    "        elif line.startswith('# '):\n",
    "            if '{{l|en|'+word+'|' in line or '{{l|en|'+word+'}}' in line:\n",
    "                meaning = True\n",
    "            if '#English|'+word+']]' in line:\n",
    "                meaning = True\n",
    "    if language_name != 'n.a':\n",
    "        printResults(word, language_name, meaning)"
   ]
  }
 ],
 "metadata": {
  "colab": {
   "provenance": []
  },
  "kernelspec": {
   "display_name": "Python 3 (ipykernel)",
   "language": "python",
   "name": "python3"
  },
  "language_info": {
   "codemirror_mode": {
    "name": "ipython",
    "version": 3
   },
   "file_extension": ".py",
   "mimetype": "text/x-python",
   "name": "python",
   "nbconvert_exporter": "python",
   "pygments_lexer": "ipython3",
   "version": "3.11.5"
  }
 },
 "nbformat": 4,
 "nbformat_minor": 4
}
