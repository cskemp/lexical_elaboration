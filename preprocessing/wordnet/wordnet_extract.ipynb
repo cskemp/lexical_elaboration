{
 "cells": [
  {
   "cell_type": "markdown",
   "id": "fd283966-7928-4ce4-95ee-13228294911f",
   "metadata": {},
   "source": [
    "Extract information from WordNet"
   ]
  },
  {
   "cell_type": "code",
   "execution_count": 1,
   "id": "656c5355-7467-4261-92e2-e55a8e5726ff",
   "metadata": {},
   "outputs": [],
   "source": [
    "import pandas as pd\n",
    "import nltk\n",
    "from nltk.corpus import wordnet as wn\n",
    "from nltk.stem import WordNetLemmatizer\n",
    "import seaborn as sns\n",
    "import matplotlib.pyplot as plt"
   ]
  },
  {
   "cell_type": "code",
   "execution_count": 2,
   "id": "93136fcb-0ef4-49fe-8f40-b87bd76419a2",
   "metadata": {},
   "outputs": [
    {
     "name": "stdout",
     "output_type": "stream",
     "text": [
      "Last updated: 2024-08-07T21:23:53.949652+08:00\n",
      "\n",
      "Python implementation: CPython\n",
      "Python version       : 3.11.5\n",
      "IPython version      : 8.15.0\n",
      "\n",
      "Compiler    : MSC v.1936 64 bit (AMD64)\n",
      "OS          : Windows\n",
      "Release     : 10\n",
      "Machine     : AMD64\n",
      "Processor   : Intel64 Family 6 Model 154 Stepping 4, GenuineIntel\n",
      "CPU cores   : 12\n",
      "Architecture: 64bit\n",
      "\n",
      "nltk      : 3.8.1\n",
      "matplotlib: 3.8.3\n",
      "seaborn   : 0.13.2\n",
      "pandas    : 2.1.0\n",
      "\n"
     ]
    }
   ],
   "source": [
    "%load_ext watermark\n",
    "%watermark\n",
    "%watermark --iversions"
   ]
  },
  {
   "cell_type": "code",
   "execution_count": 3,
   "id": "3659b461-76d3-4eec-a718-7447cd326d1d",
   "metadata": {},
   "outputs": [],
   "source": [
    "# rename the folder path before running\n",
    "project_folder = 'C:\\\\Users\\\\tkhishigsure\\\\OneDrive - The University of Melbourne\\\\Documents\\\\github\\\\lexical_elaboration'"
   ]
  },
  {
   "cell_type": "code",
   "execution_count": 4,
   "id": "6e546416-3083-4e50-bc37-972434cc6146",
   "metadata": {},
   "outputs": [],
   "source": [
    "# load words of interest\n",
    "focus_list = set()\n",
    "with open(project_folder+'\\\\data\\\\biladataset\\\\bila_long_noun_full.csv', 'r', encoding='utf-8') as f:\n",
    "    for line in f:\n",
    "      parts = line.rstrip(\"\\n\").split(\",\")\n",
    "      focus_list.add(parts[1])"
   ]
  },
  {
   "cell_type": "code",
   "execution_count": 5,
   "id": "222c4010-f26c-4c5b-b7e9-e7c945627642",
   "metadata": {},
   "outputs": [
    {
     "name": "stdout",
     "output_type": "stream",
     "text": [
      "Total nouns in BILA: 12025\n",
      "Nouns present in WordNet: 11874\n",
      "Nouns absent from WordNet: 151\n"
     ]
    }
   ],
   "source": [
    "total_words = len(focus_list)\n",
    "present_in_wordnet = 0\n",
    "absent_from_wordnet = 0\n",
    "\n",
    "for word in focus_list:\n",
    "    if wn.synsets(word):\n",
    "        present_in_wordnet += 1\n",
    "    else:\n",
    "        absent_from_wordnet += 1\n",
    "\n",
    "print(\"Total nouns in BILA:\", total_words)\n",
    "print(\"Nouns present in WordNet:\", present_in_wordnet)\n",
    "print(\"Nouns absent from WordNet:\", absent_from_wordnet)"
   ]
  },
  {
   "cell_type": "code",
   "execution_count": 6,
   "id": "10078912-b269-4a86-8333-7d4331b487f9",
   "metadata": {},
   "outputs": [],
   "source": [
    "# lemmatize each word in the focus list\n",
    "lemmatizer = WordNetLemmatizer()\n",
    "lemmatized_words = [(word, lemmatizer.lemmatize(word, pos='n')) for word in focus_list]\n",
    "\n",
    "df = pd.DataFrame(lemmatized_words, columns=['original_word', 'lemmatized_word'])"
   ]
  },
  {
   "cell_type": "markdown",
   "id": "848653aa-ea50-407f-a747-a3f42f2d0825",
   "metadata": {},
   "source": [
    "Extract information about the number of senses."
   ]
  },
  {
   "cell_type": "code",
   "execution_count": 7,
   "id": "c25ace89-707b-439e-a338-9705e0944e73",
   "metadata": {},
   "outputs": [],
   "source": [
    "lemmatized_list = df['lemmatized_word']\n",
    "\n",
    "# calculate number of senses and number of compounds for each word in the focus list\n",
    "sense_df = []\n",
    "for word in lemmatized_list:\n",
    "    nsenses = len(wn.synsets(word))\n",
    "    sense_df.append({'lemmatized_word': word, 'nsenses': int(nsenses)})\n",
    "\n",
    "sense_df = pd.DataFrame(sense_df)\n",
    "\n",
    "merged_df = df.merge(sense_df, on='lemmatized_word', how='left')\n",
    "merged_df = merged_df.drop_duplicates()"
   ]
  },
  {
   "cell_type": "raw",
   "id": "5276a5c7-c384-4e72-8f36-ac2d30d1e21a",
   "metadata": {},
   "source": [
    "Write the dataframe to a tsv file."
   ]
  },
  {
   "cell_type": "code",
   "execution_count": 8,
   "id": "779cb380-3381-497c-924d-94851ea7c3d2",
   "metadata": {},
   "outputs": [],
   "source": [
    "merged_df.to_csv(project_folder+'\\\\data\\\\forpreprocessing\\\\lemma_features.tsv', sep='\\t', index=False, encoding='utf-8')"
   ]
  }
 ],
 "metadata": {
  "kernelspec": {
   "display_name": "Python 3 (ipykernel)",
   "language": "python",
   "name": "python3"
  },
  "language_info": {
   "codemirror_mode": {
    "name": "ipython",
    "version": 3
   },
   "file_extension": ".py",
   "mimetype": "text/x-python",
   "name": "python",
   "nbconvert_exporter": "python",
   "pygments_lexer": "ipython3",
   "version": "3.11.5"
  }
 },
 "nbformat": 4,
 "nbformat_minor": 5
}
